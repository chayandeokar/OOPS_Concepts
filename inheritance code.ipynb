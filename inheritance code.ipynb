{
 "cells": [
  {
   "cell_type": "code",
   "execution_count": null,
   "id": "3d654586",
   "metadata": {},
   "outputs": [],
   "source": [
    "## inheritacnce"
   ]
  },
  {
   "cell_type": "code",
   "execution_count": 13,
   "id": "62699258",
   "metadata": {},
   "outputs": [],
   "source": [
    "#Parent class / base\n",
    "\n",
    "class visitorform:\n",
    "    def __init__(self):\n",
    "        self.name = n\n",
    "        self.phone = p\n",
    "        print(\"i am your parent class\")\n",
    "    def myhello(self):\n",
    "        print(\"i am your parent\")"
   ]
  },
  {
   "cell_type": "code",
   "execution_count": 14,
   "id": "0b7c36ec",
   "metadata": {},
   "outputs": [],
   "source": [
    "#child class\n",
    "\n",
    "class jobform(visitorform):\n",
    "    \n",
    "    def __init__(self):\n",
    "        print(\"i am your child class\")\n",
    "        \n",
    "    def getname(self):\n",
    "        print(self.name)\n",
    "        \n",
    "    def getphone(self):\n",
    "        print(self.phone)"
   ]
  },
  {
   "cell_type": "code",
   "execution_count": 32,
   "id": "11b7767d",
   "metadata": {},
   "outputs": [],
   "source": [
    "tom = jobform()"
   ]
  },
  {
   "cell_type": "code",
   "execution_count": null,
   "id": "f71d394b",
   "metadata": {},
   "outputs": [],
   "source": [
    "class One():\n",
    "    def __init__(self,a,b):\n",
    "        print(\"Hello\")\n",
    "    def bye(self):\n",
    "        pass\n",
    "\n",
    "class Two(One):\n",
    "    def __init__(self,x,y):\n",
    "        One.__init__(self,x,y)\n",
    "        super().__init__(x,y)\n",
    "        print(\"Bye\")\n",
    "    def show(self):\n",
    "        pass\n",
    "\n",
    "obj = Two()"
   ]
  },
  {
   "cell_type": "code",
   "execution_count": null,
   "id": "62d3dcb2",
   "metadata": {},
   "outputs": [],
   "source": [
    "a = 10\n",
    "class Student:\n",
    "    # class variable\n",
    "    TOTAL = 0\n",
    "    def __init__(self,name,clg):\n",
    "        #instance variable\n",
    "        self.name = name\n",
    "        self.college = clg\n",
    "        Student.TOTAL += 1\n",
    "    def showDetails(self):\n",
    "        pass\n",
    "\n",
    "class Exam(Student):\n",
    "    def __init__(self,name,college,year,branch,sub):\n",
    "        self.year = year\n",
    "        self.branch = branch\n",
    "        self.subj = sub\n",
    "        Student.__init__(self,name,college)\n",
    "        # super().__init__(name,college)\n",
    "    def examVenue(self):\n",
    "        #method Variable\n",
    "        examV = [\"A\",\"B\",\"C\"]\n",
    "        #A = CS/IT, B = EC, C = ME/SM/CE/EE/EX, else\n",
    "        if self.branch == \"CS\" or self.branch == \"IT\":\n",
    "            print(f\"Hello {self.name} your exam venue is {examV[0]}\")\n",
    "john = Exam()"
   ]
  },
  {
   "cell_type": "code",
   "execution_count": 24,
   "id": "8af3627c",
   "metadata": {},
   "outputs": [],
   "source": [
    "#parent class\n",
    "class visitorForm:\n",
    "    city = \"jaipur\"\n",
    "    \n",
    "    def lw(self):\n",
    "        print(\"hi lw\")"
   ]
  },
  {
   "cell_type": "code",
   "execution_count": 25,
   "id": "c0a77ea8",
   "metadata": {},
   "outputs": [],
   "source": [
    "class jobForm(visitorForm):\n",
    "    def myjob(self):\n",
    "        print(\"hi job\")"
   ]
  },
  {
   "cell_type": "code",
   "execution_count": 29,
   "id": "741c70e6",
   "metadata": {},
   "outputs": [],
   "source": [
    "tom = jobForm()"
   ]
  },
  {
   "cell_type": "code",
   "execution_count": 30,
   "id": "7e4f10bb",
   "metadata": {},
   "outputs": [
    {
     "name": "stdout",
     "output_type": "stream",
     "text": [
      "hi lw\n"
     ]
    }
   ],
   "source": [
    "tom.lw()"
   ]
  },
  {
   "cell_type": "code",
   "execution_count": 31,
   "id": "ba7fb937",
   "metadata": {
    "scrolled": true
   },
   "outputs": [
    {
     "name": "stdout",
     "output_type": "stream",
     "text": [
      "hi job\n"
     ]
    }
   ],
   "source": [
    "tom.myjob()"
   ]
  },
  {
   "cell_type": "code",
   "execution_count": null,
   "id": "278d81a3",
   "metadata": {},
   "outputs": [],
   "source": []
  }
 ],
 "metadata": {
  "kernelspec": {
   "display_name": "Python 3 (ipykernel)",
   "language": "python",
   "name": "python3"
  },
  "language_info": {
   "codemirror_mode": {
    "name": "ipython",
    "version": 3
   },
   "file_extension": ".py",
   "mimetype": "text/x-python",
   "name": "python",
   "nbconvert_exporter": "python",
   "pygments_lexer": "ipython3",
   "version": "3.10.2"
  }
 },
 "nbformat": 4,
 "nbformat_minor": 5
}
