{
 "cells": [
  {
   "cell_type": "code",
   "execution_count": 1,
   "id": "7a609bd6",
   "metadata": {},
   "outputs": [
    {
     "data": {
      "text/plain": [
       "5"
      ]
     },
     "execution_count": 1,
     "metadata": {},
     "output_type": "execute_result"
    }
   ],
   "source": [
    "5"
   ]
  },
  {
   "cell_type": "code",
   "execution_count": 4,
   "id": "e4bf445f",
   "metadata": {},
   "outputs": [],
   "source": [
    "x = 2 + 7"
   ]
  },
  {
   "cell_type": "code",
   "execution_count": 5,
   "id": "6a2e29e4",
   "metadata": {},
   "outputs": [
    {
     "data": {
      "text/plain": [
       "9"
      ]
     },
     "execution_count": 5,
     "metadata": {},
     "output_type": "execute_result"
    }
   ],
   "source": [
    "x"
   ]
  },
  {
   "cell_type": "code",
   "execution_count": null,
   "id": "a2f792ba",
   "metadata": {},
   "outputs": [],
   "source": []
  },
  {
   "cell_type": "code",
   "execution_count": null,
   "id": "ca117fcd",
   "metadata": {},
   "outputs": [],
   "source": []
  },
  {
   "cell_type": "code",
   "execution_count": null,
   "id": "564f7e70",
   "metadata": {},
   "outputs": [],
   "source": []
  },
  {
   "cell_type": "code",
   "execution_count": null,
   "id": "59c9113c",
   "metadata": {},
   "outputs": [],
   "source": []
  },
  {
   "cell_type": "code",
   "execution_count": null,
   "id": "75e44a8f",
   "metadata": {},
   "outputs": [],
   "source": []
  },
  {
   "cell_type": "code",
   "execution_count": 18,
   "id": "fda58ed2",
   "metadata": {},
   "outputs": [],
   "source": [
    "x = [ 5,4346,36,57,577 ]"
   ]
  },
  {
   "cell_type": "code",
   "execution_count": 19,
   "id": "741b078d",
   "metadata": {},
   "outputs": [
    {
     "data": {
      "text/plain": [
       "[5, 4346, 36, 57, 577]"
      ]
     },
     "execution_count": 19,
     "metadata": {},
     "output_type": "execute_result"
    }
   ],
   "source": [
    "x"
   ]
  },
  {
   "cell_type": "code",
   "execution_count": 20,
   "id": "6159d6c8",
   "metadata": {},
   "outputs": [
    {
     "data": {
      "text/plain": [
       "'0x1c8f1cfab40'"
      ]
     },
     "execution_count": 20,
     "metadata": {},
     "output_type": "execute_result"
    }
   ],
   "source": [
    "hex ( id(x) )"
   ]
  },
  {
   "cell_type": "code",
   "execution_count": null,
   "id": "d6fd87d0",
   "metadata": {},
   "outputs": [],
   "source": []
  },
  {
   "cell_type": "code",
   "execution_count": 3,
   "id": "6cfdd45d",
   "metadata": {},
   "outputs": [],
   "source": [
    "# variable "
   ]
  },
  {
   "cell_type": "code",
   "execution_count": 10,
   "id": "5f2785e2",
   "metadata": {},
   "outputs": [
    {
     "data": {
      "text/plain": [
       "9"
      ]
     },
     "execution_count": 10,
     "metadata": {},
     "output_type": "execute_result"
    }
   ],
   "source": [
    "x"
   ]
  },
  {
   "cell_type": "code",
   "execution_count": 11,
   "id": "0d816e75",
   "metadata": {},
   "outputs": [],
   "source": [
    "None"
   ]
  },
  {
   "cell_type": "code",
   "execution_count": null,
   "id": "b43a501d",
   "metadata": {},
   "outputs": [],
   "source": []
  },
  {
   "cell_type": "code",
   "execution_count": 21,
   "id": "a018b2a3",
   "metadata": {},
   "outputs": [
    {
     "name": "stdout",
     "output_type": "stream",
     "text": [
      "jack\n",
      "1111\n",
      "ok\n"
     ]
    }
   ],
   "source": [
    "name=input()\n",
    "phone=input()\n",
    "remarks=input()"
   ]
  },
  {
   "cell_type": "code",
   "execution_count": null,
   "id": "6f0cfc2d",
   "metadata": {},
   "outputs": [],
   "source": []
  },
  {
   "cell_type": "code",
   "execution_count": 8,
   "id": "5f520cef",
   "metadata": {},
   "outputs": [
    {
     "name": "stdout",
     "output_type": "stream",
     "text": [
      "eric\n",
      "2222\n",
      "ok\n"
     ]
    }
   ],
   "source": [
    "name=input()\n",
    "phone=input()\n",
    "remarks=input()"
   ]
  },
  {
   "cell_type": "code",
   "execution_count": 9,
   "id": "f4835641",
   "metadata": {},
   "outputs": [
    {
     "name": "stdout",
     "output_type": "stream",
     "text": [
      "f\n",
      "ef\n",
      "g\n"
     ]
    }
   ],
   "source": [
    "name=input()\n",
    "phnoe=input()\n",
    "remraks=input()"
   ]
  },
  {
   "cell_type": "code",
   "execution_count": 12,
   "id": "3324a04f",
   "metadata": {},
   "outputs": [],
   "source": [
    "# soft copy form\n",
    "class visitorform:\n",
    "    name = None\n",
    "    phone = None\n",
    "    remarks = None"
   ]
  },
  {
   "cell_type": "code",
   "execution_count": 22,
   "id": "1a08d112",
   "metadata": {},
   "outputs": [],
   "source": [
    "# print of it: hard copy\n",
    "# ask or use or create space on the RAM: namespace\n",
    "# address : v1\n",
    "\n",
    "# v1 : object\n",
    "# = : instantiation\n",
    "v1 = visitorform()"
   ]
  },
  {
   "cell_type": "code",
   "execution_count": 23,
   "id": "c1fccbcd",
   "metadata": {},
   "outputs": [
    {
     "data": {
      "text/plain": [
       "<__main__.visitorform at 0x1c8f1d046d0>"
      ]
     },
     "execution_count": 23,
     "metadata": {},
     "output_type": "execute_result"
    }
   ],
   "source": [
    "v1"
   ]
  },
  {
   "cell_type": "code",
   "execution_count": 24,
   "id": "e187387a",
   "metadata": {},
   "outputs": [
    {
     "data": {
      "text/plain": [
       "['__class__',\n",
       " '__delattr__',\n",
       " '__dict__',\n",
       " '__dir__',\n",
       " '__doc__',\n",
       " '__eq__',\n",
       " '__format__',\n",
       " '__ge__',\n",
       " '__getattribute__',\n",
       " '__gt__',\n",
       " '__hash__',\n",
       " '__init__',\n",
       " '__init_subclass__',\n",
       " '__le__',\n",
       " '__lt__',\n",
       " '__module__',\n",
       " '__ne__',\n",
       " '__new__',\n",
       " '__reduce__',\n",
       " '__reduce_ex__',\n",
       " '__repr__',\n",
       " '__setattr__',\n",
       " '__sizeof__',\n",
       " '__str__',\n",
       " '__subclasshook__',\n",
       " '__weakref__',\n",
       " 'name',\n",
       " 'phone',\n",
       " 'remarks']"
      ]
     },
     "execution_count": 24,
     "metadata": {},
     "output_type": "execute_result"
    }
   ],
   "source": [
    "dir(v1)"
   ]
  },
  {
   "cell_type": "code",
   "execution_count": 25,
   "id": "02800159",
   "metadata": {},
   "outputs": [],
   "source": [
    "# go  to this object: get a value of \"name\"\n",
    "# GET\n",
    "# hard copy file : object: v1\n",
    "# name : variable: property\n",
    "v1.name"
   ]
  },
  {
   "cell_type": "code",
   "execution_count": 26,
   "id": "bafabbcf",
   "metadata": {},
   "outputs": [],
   "source": [
    "v1.phone"
   ]
  },
  {
   "cell_type": "code",
   "execution_count": 27,
   "id": "d80b8822",
   "metadata": {},
   "outputs": [],
   "source": [
    "v1.remarks"
   ]
  },
  {
   "cell_type": "code",
   "execution_count": 28,
   "id": "0312f71e",
   "metadata": {},
   "outputs": [
    {
     "data": {
      "text/plain": [
       "<__main__.visitorform at 0x1c8f1d046d0>"
      ]
     },
     "execution_count": 28,
     "metadata": {},
     "output_type": "execute_result"
    }
   ],
   "source": [
    "v1"
   ]
  },
  {
   "cell_type": "code",
   "execution_count": 29,
   "id": "865fa40b",
   "metadata": {},
   "outputs": [],
   "source": [
    "v1.name = \"jack\""
   ]
  },
  {
   "cell_type": "code",
   "execution_count": 30,
   "id": "4ec5bf89",
   "metadata": {},
   "outputs": [],
   "source": [
    "v1.phone = 11111"
   ]
  },
  {
   "cell_type": "code",
   "execution_count": 31,
   "id": "59903abe",
   "metadata": {},
   "outputs": [
    {
     "data": {
      "text/plain": [
       "<__main__.visitorform at 0x1c8f1d046d0>"
      ]
     },
     "execution_count": 31,
     "metadata": {},
     "output_type": "execute_result"
    }
   ],
   "source": [
    "v1"
   ]
  },
  {
   "cell_type": "code",
   "execution_count": 32,
   "id": "a592a612",
   "metadata": {},
   "outputs": [
    {
     "data": {
      "text/plain": [
       "'jack'"
      ]
     },
     "execution_count": 32,
     "metadata": {},
     "output_type": "execute_result"
    }
   ],
   "source": [
    "v1.name"
   ]
  },
  {
   "cell_type": "code",
   "execution_count": 33,
   "id": "2f5f51c9",
   "metadata": {},
   "outputs": [
    {
     "data": {
      "text/plain": [
       "11111"
      ]
     },
     "execution_count": 33,
     "metadata": {},
     "output_type": "execute_result"
    }
   ],
   "source": [
    "v1.phone"
   ]
  },
  {
   "cell_type": "code",
   "execution_count": 36,
   "id": "6896dc54",
   "metadata": {},
   "outputs": [],
   "source": [
    "v1.remarks = \"for DS query\""
   ]
  },
  {
   "cell_type": "code",
   "execution_count": null,
   "id": "32800766",
   "metadata": {},
   "outputs": [],
   "source": []
  },
  {
   "cell_type": "code",
   "execution_count": 37,
   "id": "dd92af1f",
   "metadata": {},
   "outputs": [
    {
     "data": {
      "text/plain": [
       "{'name': 'jack', 'phone': 11111, 'remarks': 'for DS query'}"
      ]
     },
     "execution_count": 37,
     "metadata": {},
     "output_type": "execute_result"
    }
   ],
   "source": [
    "v1.__dict__"
   ]
  },
  {
   "cell_type": "code",
   "execution_count": 38,
   "id": "bea2cd5b",
   "metadata": {},
   "outputs": [],
   "source": [
    "tom = visitorform()"
   ]
  },
  {
   "cell_type": "code",
   "execution_count": 39,
   "id": "321518d5",
   "metadata": {},
   "outputs": [],
   "source": [
    "tom.name=\"tom\""
   ]
  },
  {
   "cell_type": "code",
   "execution_count": 40,
   "id": "61f57582",
   "metadata": {},
   "outputs": [],
   "source": [
    "tom.phone=2222"
   ]
  },
  {
   "cell_type": "code",
   "execution_count": 41,
   "id": "b05933b7",
   "metadata": {},
   "outputs": [],
   "source": [
    "tom.remarks=\"ok\""
   ]
  },
  {
   "cell_type": "code",
   "execution_count": 44,
   "id": "09264f24",
   "metadata": {},
   "outputs": [
    {
     "data": {
      "text/plain": [
       "{'name': 'jack', 'phone': 11111, 'remarks': 'for DS query'}"
      ]
     },
     "execution_count": 44,
     "metadata": {},
     "output_type": "execute_result"
    }
   ],
   "source": [
    "v1.__dict__"
   ]
  },
  {
   "cell_type": "code",
   "execution_count": null,
   "id": "a59140a7",
   "metadata": {},
   "outputs": [],
   "source": []
  },
  {
   "cell_type": "code",
   "execution_count": 50,
   "id": "994394e6",
   "metadata": {},
   "outputs": [
    {
     "data": {
      "text/plain": [
       "{'name': 'tom', 'phone': 3333, 'remarks': 'ok'}"
      ]
     },
     "execution_count": 50,
     "metadata": {},
     "output_type": "execute_result"
    }
   ],
   "source": [
    "tom.__dict__"
   ]
  },
  {
   "cell_type": "code",
   "execution_count": null,
   "id": "6335a474",
   "metadata": {},
   "outputs": [],
   "source": []
  },
  {
   "cell_type": "code",
   "execution_count": 49,
   "id": "3bd507e8",
   "metadata": {},
   "outputs": [
    {
     "name": "stdout",
     "output_type": "stream",
     "text": [
      "3333\n"
     ]
    }
   ],
   "source": [
    "# GET\n",
    "print(tom.phone)"
   ]
  },
  {
   "cell_type": "code",
   "execution_count": 47,
   "id": "cac46850",
   "metadata": {},
   "outputs": [],
   "source": [
    "# SET\n",
    "tom.phone=3333"
   ]
  },
  {
   "cell_type": "code",
   "execution_count": 48,
   "id": "3ed5885e",
   "metadata": {},
   "outputs": [
    {
     "data": {
      "text/plain": [
       "{'name': 'tom', 'phone': 3333, 'remarks': 'ok'}"
      ]
     },
     "execution_count": 48,
     "metadata": {},
     "output_type": "execute_result"
    }
   ],
   "source": [
    "tom.__dict__"
   ]
  },
  {
   "cell_type": "code",
   "execution_count": null,
   "id": "0ffdda2e",
   "metadata": {},
   "outputs": [],
   "source": []
  }
 ],
 "metadata": {
  "kernelspec": {
   "display_name": "Python 3",
   "language": "python",
   "name": "python3"
  },
  "language_info": {
   "codemirror_mode": {
    "name": "ipython",
    "version": 3
   },
   "file_extension": ".py",
   "mimetype": "text/x-python",
   "name": "python",
   "nbconvert_exporter": "python",
   "pygments_lexer": "ipython3",
   "version": "3.8.8"
  }
 },
 "nbformat": 4,
 "nbformat_minor": 5
}
