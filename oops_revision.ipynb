{
 "cells": [
  {
   "cell_type": "code",
   "execution_count": 3,
   "id": "52edb865",
   "metadata": {},
   "outputs": [],
   "source": [
    "def lw():\n",
    "    x=5\n",
    "    return(x)"
   ]
  },
  {
   "cell_type": "code",
   "execution_count": 4,
   "id": "b2006be5",
   "metadata": {},
   "outputs": [
    {
     "data": {
      "text/plain": [
       "5"
      ]
     },
     "execution_count": 4,
     "metadata": {},
     "output_type": "execute_result"
    }
   ],
   "source": [
    "lw()"
   ]
  },
  {
   "cell_type": "code",
   "execution_count": 7,
   "id": "5dde45bc",
   "metadata": {},
   "outputs": [
    {
     "data": {
      "text/plain": [
       "'0x1c3db40b040'"
      ]
     },
     "execution_count": 7,
     "metadata": {},
     "output_type": "execute_result"
    }
   ],
   "source": [
    "hex ( id(lw) )"
   ]
  },
  {
   "cell_type": "code",
   "execution_count": 8,
   "id": "06ecb455",
   "metadata": {},
   "outputs": [],
   "source": [
    "y = lw"
   ]
  },
  {
   "cell_type": "code",
   "execution_count": 10,
   "id": "4c2e84ba",
   "metadata": {},
   "outputs": [
    {
     "data": {
      "text/plain": [
       "5"
      ]
     },
     "execution_count": 10,
     "metadata": {},
     "output_type": "execute_result"
    }
   ],
   "source": [
    "y()"
   ]
  },
  {
   "cell_type": "code",
   "execution_count": 12,
   "id": "07bfb045",
   "metadata": {},
   "outputs": [
    {
     "data": {
      "text/plain": [
       "5"
      ]
     },
     "execution_count": 12,
     "metadata": {},
     "output_type": "execute_result"
    }
   ],
   "source": [
    "lw()"
   ]
  },
  {
   "cell_type": "code",
   "execution_count": 17,
   "id": "5743327c",
   "metadata": {},
   "outputs": [],
   "source": [
    "x = 10"
   ]
  },
  {
   "cell_type": "code",
   "execution_count": 18,
   "id": "d316104c",
   "metadata": {},
   "outputs": [],
   "source": [
    "def lw():\n",
    "    # local x\n",
    "    print(x)"
   ]
  },
  {
   "cell_type": "code",
   "execution_count": 19,
   "id": "1ba0c9e2",
   "metadata": {},
   "outputs": [
    {
     "name": "stdout",
     "output_type": "stream",
     "text": [
      "10\n"
     ]
    }
   ],
   "source": [
    "lw()"
   ]
  },
  {
   "cell_type": "code",
   "execution_count": 16,
   "id": "455371f6",
   "metadata": {},
   "outputs": [
    {
     "data": {
      "text/plain": [
       "10"
      ]
     },
     "execution_count": 16,
     "metadata": {},
     "output_type": "execute_result"
    }
   ],
   "source": [
    "x"
   ]
  },
  {
   "cell_type": "code",
   "execution_count": 20,
   "id": "1fb828ff",
   "metadata": {},
   "outputs": [],
   "source": [
    "def v():\n",
    "    print(x)"
   ]
  },
  {
   "cell_type": "code",
   "execution_count": 21,
   "id": "9a5a6f39",
   "metadata": {},
   "outputs": [
    {
     "name": "stdout",
     "output_type": "stream",
     "text": [
      "10\n"
     ]
    }
   ],
   "source": [
    "v()"
   ]
  },
  {
   "cell_type": "code",
   "execution_count": 29,
   "id": "d5af9444",
   "metadata": {},
   "outputs": [],
   "source": [
    "z = 10"
   ]
  },
  {
   "cell_type": "code",
   "execution_count": 31,
   "id": "8f9c7e7e",
   "metadata": {},
   "outputs": [],
   "source": [
    "def lw():\n",
    "    global z \n",
    "    z = \"lw\"\n",
    "    print(z)\n",
    "    \n",
    "def pop():\n",
    "    \n",
    "    print(z)"
   ]
  },
  {
   "cell_type": "code",
   "execution_count": 32,
   "id": "535c5b7c",
   "metadata": {},
   "outputs": [
    {
     "name": "stdout",
     "output_type": "stream",
     "text": [
      "lw\n"
     ]
    }
   ],
   "source": [
    "lw()"
   ]
  },
  {
   "cell_type": "code",
   "execution_count": 33,
   "id": "636add4e",
   "metadata": {},
   "outputs": [
    {
     "name": "stdout",
     "output_type": "stream",
     "text": [
      "lw\n"
     ]
    }
   ],
   "source": [
    "pop()"
   ]
  },
  {
   "cell_type": "code",
   "execution_count": 34,
   "id": "8e64ab03",
   "metadata": {},
   "outputs": [
    {
     "data": {
      "text/plain": [
       "'lw'"
      ]
     },
     "execution_count": 34,
     "metadata": {},
     "output_type": "execute_result"
    }
   ],
   "source": [
    "z"
   ]
  },
  {
   "cell_type": "code",
   "execution_count": 48,
   "id": "d53c0cdd",
   "metadata": {},
   "outputs": [],
   "source": [
    "class VisitorForm:\n",
    "    name = \"vimal\"\n",
    "    phone = 111111\n",
    "    \n",
    "    def __init__(self, myname):\n",
    "        self.name = myname\n",
    "        \n",
    "    def getName(self):\n",
    "        x = 6\n",
    "        print(x)\n",
    "        print(self.name)\n",
    "        "
   ]
  },
  {
   "cell_type": "code",
   "execution_count": 49,
   "id": "fed1cf5f",
   "metadata": {},
   "outputs": [],
   "source": [
    "jack = VisitorForm(\"jack k \")"
   ]
  },
  {
   "cell_type": "code",
   "execution_count": 62,
   "id": "d21f2fc3",
   "metadata": {},
   "outputs": [
    {
     "data": {
      "text/plain": [
       "'jack k '"
      ]
     },
     "execution_count": 62,
     "metadata": {},
     "output_type": "execute_result"
    }
   ],
   "source": [
    "jack.name"
   ]
  },
  {
   "cell_type": "code",
   "execution_count": 63,
   "id": "5ad5a925",
   "metadata": {},
   "outputs": [
    {
     "ename": "AttributeError",
     "evalue": "'VisitorForm' object has no attribute 'x'",
     "output_type": "error",
     "traceback": [
      "\u001b[1;31m---------------------------------------------------------------------------\u001b[0m",
      "\u001b[1;31mAttributeError\u001b[0m                            Traceback (most recent call last)",
      "\u001b[1;32m<ipython-input-63-30b3111691aa>\u001b[0m in \u001b[0;36m<module>\u001b[1;34m\u001b[0m\n\u001b[1;32m----> 1\u001b[1;33m \u001b[0mjack\u001b[0m\u001b[1;33m.\u001b[0m\u001b[0mx\u001b[0m\u001b[1;33m\u001b[0m\u001b[1;33m\u001b[0m\u001b[0m\n\u001b[0m",
      "\u001b[1;31mAttributeError\u001b[0m: 'VisitorForm' object has no attribute 'x'"
     ]
    }
   ],
   "source": [
    "jack.x"
   ]
  },
  {
   "cell_type": "code",
   "execution_count": 59,
   "id": "776d786a",
   "metadata": {},
   "outputs": [
    {
     "ename": "AttributeError",
     "evalue": "type object 'VisitorForm' has no attribute 'x'",
     "output_type": "error",
     "traceback": [
      "\u001b[1;31m---------------------------------------------------------------------------\u001b[0m",
      "\u001b[1;31mAttributeError\u001b[0m                            Traceback (most recent call last)",
      "\u001b[1;32m<ipython-input-59-f5803847ad13>\u001b[0m in \u001b[0;36m<module>\u001b[1;34m\u001b[0m\n\u001b[1;32m----> 1\u001b[1;33m \u001b[0mVisitorForm\u001b[0m\u001b[1;33m.\u001b[0m\u001b[0mx\u001b[0m\u001b[1;33m\u001b[0m\u001b[1;33m\u001b[0m\u001b[0m\n\u001b[0m",
      "\u001b[1;31mAttributeError\u001b[0m: type object 'VisitorForm' has no attribute 'x'"
     ]
    }
   ],
   "source": [
    "VisitorForm.x"
   ]
  },
  {
   "cell_type": "code",
   "execution_count": 53,
   "id": "56550861",
   "metadata": {},
   "outputs": [
    {
     "data": {
      "text/plain": [
       "'vimal'"
      ]
     },
     "execution_count": 53,
     "metadata": {},
     "output_type": "execute_result"
    }
   ],
   "source": [
    "VisitorForm.name"
   ]
  },
  {
   "cell_type": "code",
   "execution_count": 60,
   "id": "7d13f3b8",
   "metadata": {},
   "outputs": [
    {
     "name": "stdout",
     "output_type": "stream",
     "text": [
      "6\n",
      "jack k \n"
     ]
    }
   ],
   "source": [
    "jack.getName()"
   ]
  },
  {
   "cell_type": "code",
   "execution_count": 61,
   "id": "2cf1a2ac",
   "metadata": {},
   "outputs": [],
   "source": [
    "t =5"
   ]
  },
  {
   "cell_type": "code",
   "execution_count": 42,
   "id": "ec8cf954",
   "metadata": {},
   "outputs": [],
   "source": [
    "t=70"
   ]
  },
  {
   "cell_type": "code",
   "execution_count": 43,
   "id": "d40bbb2c",
   "metadata": {},
   "outputs": [
    {
     "data": {
      "text/plain": [
       "70"
      ]
     },
     "execution_count": 43,
     "metadata": {},
     "output_type": "execute_result"
    }
   ],
   "source": [
    "t"
   ]
  },
  {
   "cell_type": "code",
   "execution_count": null,
   "id": "3c79d9dc",
   "metadata": {},
   "outputs": [],
   "source": []
  },
  {
   "cell_type": "code",
   "execution_count": null,
   "id": "e5b1ccd0",
   "metadata": {},
   "outputs": [],
   "source": []
  },
  {
   "cell_type": "code",
   "execution_count": null,
   "id": "b7d262c3",
   "metadata": {},
   "outputs": [],
   "source": []
  },
  {
   "cell_type": "code",
   "execution_count": null,
   "id": "2ec7b691",
   "metadata": {},
   "outputs": [],
   "source": []
  },
  {
   "cell_type": "code",
   "execution_count": null,
   "id": "f7df96d2",
   "metadata": {},
   "outputs": [],
   "source": []
  },
  {
   "cell_type": "code",
   "execution_count": 68,
   "id": "b5b6e777",
   "metadata": {},
   "outputs": [],
   "source": [
    "# parent class\n",
    "class visitorForm:\n",
    "    city = \"jaipur\"\n",
    "    \n",
    "    def lw(self):\n",
    "        print(\"hi lw\")\n",
    "    "
   ]
  },
  {
   "cell_type": "code",
   "execution_count": 69,
   "id": "f94ef8d4",
   "metadata": {},
   "outputs": [],
   "source": [
    "class jobForm(visitorForm):\n",
    "    def myjob(self):\n",
    "        print(\"hi job\")\n",
    "    "
   ]
  },
  {
   "cell_type": "code",
   "execution_count": 70,
   "id": "ddcc9c64",
   "metadata": {},
   "outputs": [],
   "source": [
    "tom = jobForm()"
   ]
  },
  {
   "cell_type": "code",
   "execution_count": 71,
   "id": "8288672f",
   "metadata": {},
   "outputs": [
    {
     "name": "stdout",
     "output_type": "stream",
     "text": [
      "hi job\n"
     ]
    }
   ],
   "source": [
    "tom.myjob()"
   ]
  },
  {
   "cell_type": "code",
   "execution_count": 72,
   "id": "6996ffa4",
   "metadata": {},
   "outputs": [
    {
     "name": "stdout",
     "output_type": "stream",
     "text": [
      "hi lw\n"
     ]
    }
   ],
   "source": [
    "tom.lw()"
   ]
  },
  {
   "cell_type": "code",
   "execution_count": 73,
   "id": "c01afe18",
   "metadata": {},
   "outputs": [
    {
     "data": {
      "text/plain": [
       "'jaipur'"
      ]
     },
     "execution_count": 73,
     "metadata": {},
     "output_type": "execute_result"
    }
   ],
   "source": [
    "tom.city"
   ]
  },
  {
   "cell_type": "code",
   "execution_count": null,
   "id": "5e1c46f6",
   "metadata": {},
   "outputs": [],
   "source": []
  },
  {
   "cell_type": "code",
   "execution_count": null,
   "id": "0eed3b70",
   "metadata": {},
   "outputs": [],
   "source": []
  },
  {
   "cell_type": "code",
   "execution_count": null,
   "id": "52b5b08e",
   "metadata": {},
   "outputs": [],
   "source": []
  },
  {
   "cell_type": "code",
   "execution_count": 93,
   "id": "566cb7ac",
   "metadata": {},
   "outputs": [],
   "source": [
    "# parent / base\n",
    "class VisitorForm:\n",
    "    def __init__(self):\n",
    "      #  self.name = myname\n",
    "      #  self.phone = myphone\n",
    "        print(\"i m from parent class\")\n",
    "        \n",
    "    def myhello(self):\n",
    "        print(\" i m from parent\")"
   ]
  },
  {
   "cell_type": "code",
   "execution_count": 97,
   "id": "e452037d",
   "metadata": {},
   "outputs": [],
   "source": [
    "# child / subclass\n",
    "class JobForm(VisitorForm):\n",
    "    \n",
    "     # method/function overriding\n",
    "    def __init__(self):\n",
    "        print(\"i m from child class\")\n",
    "        \n",
    "    def getName(self):\n",
    "        print(self.name)\n",
    "        \n",
    "    def setPhone(self, newphone):\n",
    "        self.phone = newphone\n",
    "   \n",
    "    # method overriding\n",
    "    def myhello(self):\n",
    "        print(\"i m from child\")"
   ]
  },
  {
   "cell_type": "code",
   "execution_count": 90,
   "id": "0920d97b",
   "metadata": {},
   "outputs": [],
   "source": [
    "jack = JobForm(myname=\"jack k\",  myphone=11111, exp)"
   ]
  },
  {
   "cell_type": "code",
   "execution_count": 95,
   "id": "34800b2b",
   "metadata": {},
   "outputs": [
    {
     "name": "stdout",
     "output_type": "stream",
     "text": [
      "jack k\n"
     ]
    }
   ],
   "source": [
    "jack.getName()"
   ]
  },
  {
   "cell_type": "code",
   "execution_count": 98,
   "id": "b19af299",
   "metadata": {},
   "outputs": [
    {
     "name": "stdout",
     "output_type": "stream",
     "text": [
      "i m from child class\n"
     ]
    }
   ],
   "source": [
    "jack = JobForm()"
   ]
  },
  {
   "cell_type": "code",
   "execution_count": 92,
   "id": "d0af1dae",
   "metadata": {},
   "outputs": [
    {
     "name": "stdout",
     "output_type": "stream",
     "text": [
      "i m from child\n"
     ]
    }
   ],
   "source": [
    "jack.myhello()"
   ]
  },
  {
   "cell_type": "code",
   "execution_count": 83,
   "id": "3b682fb5",
   "metadata": {},
   "outputs": [],
   "source": [
    "jack.setPhone(newphone=3333)"
   ]
  },
  {
   "cell_type": "code",
   "execution_count": null,
   "id": "062231a8",
   "metadata": {},
   "outputs": [],
   "source": []
  }
 ],
 "metadata": {
  "kernelspec": {
   "display_name": "Python 3",
   "language": "python",
   "name": "python3"
  },
  "language_info": {
   "codemirror_mode": {
    "name": "ipython",
    "version": 3
   },
   "file_extension": ".py",
   "mimetype": "text/x-python",
   "name": "python",
   "nbconvert_exporter": "python",
   "pygments_lexer": "ipython3",
   "version": "3.8.8"
  }
 },
 "nbformat": 4,
 "nbformat_minor": 5
}
