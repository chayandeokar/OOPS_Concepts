{
 "cells": [
  {
   "cell_type": "code",
   "execution_count": 144,
   "id": "bf0ef8ff",
   "metadata": {},
   "outputs": [],
   "source": [
    "class VisitorForm:\n",
    "   \n",
    "    # variable : property\n",
    "    name = None\n",
    "    phone = None\n",
    "    remarks = None\n",
    "    \n",
    "    \n",
    "    # auto : new object from this class : constructor\n",
    "    def __init__(self , yourname, yourphone , yourremarks):\n",
    "        print(\"welcome to LW ...\")\n",
    "        print(\"send sms\")\n",
    "        print(\"capture photo\")\n",
    "        self.name = yourname\n",
    "        self.phone = yourphone\n",
    "        self.remarks = yourremarks\n",
    "        \n",
    "        \n",
    "    # function : method\n",
    "    # getter method\n",
    "    def getPhone(self):\n",
    "        print(self)\n",
    "        print(self.phone)\n",
    "   \n",
    "\n",
    "     # getter method\n",
    "    def getRemarks(self):\n",
    "        print(self)\n",
    "        print(self.remarks)\n",
    "   \n",
    "    # setter method\n",
    "    def setName(self , newname):\n",
    "        self.name = newname\n",
    "        print(\"new name set ....\")\n",
    "        "
   ]
  },
  {
   "cell_type": "code",
   "execution_count": 149,
   "id": "ed77d8fc",
   "metadata": {},
   "outputs": [
    {
     "ename": "TypeError",
     "evalue": "__init__() missing 3 required positional arguments: 'yourname', 'yourphone', and 'yourremarks'",
     "output_type": "error",
     "traceback": [
      "\u001b[1;31m---------------------------------------------------------------------------\u001b[0m",
      "\u001b[1;31mTypeError\u001b[0m                                 Traceback (most recent call last)",
      "\u001b[1;32m<ipython-input-149-6b49f6143b2f>\u001b[0m in \u001b[0;36m<module>\u001b[1;34m\u001b[0m\n\u001b[0;32m      5\u001b[0m \u001b[1;31m# jack = VisitorForm(yourremarks=\"ok\", yourname=\"jack k\" , yourphone=1111)\u001b[0m\u001b[1;33m\u001b[0m\u001b[1;33m\u001b[0m\u001b[1;33m\u001b[0m\u001b[0m\n\u001b[0;32m      6\u001b[0m \u001b[1;33m\u001b[0m\u001b[0m\n\u001b[1;32m----> 7\u001b[1;33m \u001b[0mjack\u001b[0m \u001b[1;33m=\u001b[0m \u001b[0mVisitorForm\u001b[0m\u001b[1;33m(\u001b[0m\u001b[1;33m)\u001b[0m\u001b[1;33m\u001b[0m\u001b[1;33m\u001b[0m\u001b[0m\n\u001b[0m",
      "\u001b[1;31mTypeError\u001b[0m: __init__() missing 3 required positional arguments: 'yourname', 'yourphone', and 'yourremarks'"
     ]
    }
   ],
   "source": [
    "# instantiation\n",
    "# object\n",
    "# space in RAM\n",
    "# shift + tab key\n",
    "\n",
    "jack = VisitorForm(yourremarks=\"ok\", yourname=\"jack k\" , yourphone=1111)\n",
    "\n",
    "# jack = VisitorForm()"
   ]
  },
  {
   "cell_type": "code",
   "execution_count": 148,
   "id": "8a33f867",
   "metadata": {},
   "outputs": [
    {
     "data": {
      "text/plain": [
       "__main__.VisitorForm"
      ]
     },
     "execution_count": 148,
     "metadata": {},
     "output_type": "execute_result"
    }
   ],
   "source": [
    "jack"
   ]
  },
  {
   "cell_type": "code",
   "execution_count": 146,
   "id": "6bac22f0",
   "metadata": {},
   "outputs": [
    {
     "name": "stdout",
     "output_type": "stream",
     "text": [
      "<__main__.VisitorForm object at 0x0000025705A6B670>\n",
      "1111\n"
     ]
    }
   ],
   "source": [
    "jack.getPhone()"
   ]
  },
  {
   "cell_type": "code",
   "execution_count": 141,
   "id": "ba571bf7",
   "metadata": {},
   "outputs": [
    {
     "name": "stdout",
     "output_type": "stream",
     "text": [
      "Help on class VisitorForm in module __main__:\n",
      "\n",
      "class VisitorForm(builtins.object)\n",
      " |  VisitorForm(yourname, yourphone, yourremarks)\n",
      " |  \n",
      " |  Methods defined here:\n",
      " |  \n",
      " |  __init__(self, yourname, yourphone, yourremarks)\n",
      " |      Initialize self.  See help(type(self)) for accurate signature.\n",
      " |  \n",
      " |  getPhone(self)\n",
      " |      # function : method\n",
      " |      # getter method\n",
      " |  \n",
      " |  getRemarks(self)\n",
      " |  \n",
      " |  setName(self, newname)\n",
      " |      # setter method\n",
      " |  \n",
      " |  ----------------------------------------------------------------------\n",
      " |  Data descriptors defined here:\n",
      " |  \n",
      " |  __dict__\n",
      " |      dictionary for instance variables (if defined)\n",
      " |  \n",
      " |  __weakref__\n",
      " |      list of weak references to the object (if defined)\n",
      " |  \n",
      " |  ----------------------------------------------------------------------\n",
      " |  Data and other attributes defined here:\n",
      " |  \n",
      " |  name = None\n",
      " |  \n",
      " |  phone = None\n",
      " |  \n",
      " |  remarks = None\n",
      "\n"
     ]
    }
   ],
   "source": [
    "help(VisitorForm)"
   ]
  },
  {
   "cell_type": "code",
   "execution_count": 139,
   "id": "556c0152",
   "metadata": {},
   "outputs": [
    {
     "data": {
      "text/plain": [
       "{'name': 'j', 'phone': 111, 'remarks': 'ok'}"
      ]
     },
     "execution_count": 139,
     "metadata": {},
     "output_type": "execute_result"
    }
   ],
   "source": [
    "jack.__dict__"
   ]
  },
  {
   "cell_type": "code",
   "execution_count": null,
   "id": "79498f74",
   "metadata": {},
   "outputs": [],
   "source": []
  },
  {
   "cell_type": "code",
   "execution_count": 113,
   "id": "65e2fdc6",
   "metadata": {},
   "outputs": [],
   "source": [
    "jack.name = \"jack k\""
   ]
  },
  {
   "cell_type": "code",
   "execution_count": 118,
   "id": "58586916",
   "metadata": {},
   "outputs": [
    {
     "data": {
      "text/plain": [
       "{'name': 'jack k', 'phone': 2222, 'mob': 33333}"
      ]
     },
     "execution_count": 118,
     "metadata": {},
     "output_type": "execute_result"
    }
   ],
   "source": [
    "jack.__dict__"
   ]
  },
  {
   "cell_type": "code",
   "execution_count": 115,
   "id": "c28a34c7",
   "metadata": {},
   "outputs": [],
   "source": [
    "jack.phone=2222"
   ]
  },
  {
   "cell_type": "code",
   "execution_count": 135,
   "id": "c7b461e3",
   "metadata": {},
   "outputs": [],
   "source": [
    "jack.mob = 33333"
   ]
  },
  {
   "cell_type": "code",
   "execution_count": 143,
   "id": "25ae086f",
   "metadata": {},
   "outputs": [
    {
     "name": "stdout",
     "output_type": "stream",
     "text": [
      "<__main__.VisitorForm object at 0x0000025706223700>\n",
      "jack k\n"
     ]
    }
   ],
   "source": [
    "jack.getPhone()"
   ]
  },
  {
   "cell_type": "code",
   "execution_count": null,
   "id": "6620286f",
   "metadata": {},
   "outputs": [],
   "source": []
  },
  {
   "cell_type": "code",
   "execution_count": 104,
   "id": "cf87614e",
   "metadata": {},
   "outputs": [
    {
     "data": {
      "text/plain": [
       "['__class__',\n",
       " '__delattr__',\n",
       " '__dict__',\n",
       " '__dir__',\n",
       " '__doc__',\n",
       " '__eq__',\n",
       " '__format__',\n",
       " '__ge__',\n",
       " '__getattribute__',\n",
       " '__gt__',\n",
       " '__hash__',\n",
       " '__init__',\n",
       " '__init_subclass__',\n",
       " '__le__',\n",
       " '__lt__',\n",
       " '__module__',\n",
       " '__ne__',\n",
       " '__new__',\n",
       " '__reduce__',\n",
       " '__reduce_ex__',\n",
       " '__repr__',\n",
       " '__setattr__',\n",
       " '__sizeof__',\n",
       " '__str__',\n",
       " '__subclasshook__',\n",
       " '__weakref__',\n",
       " 'getPhone',\n",
       " 'name',\n",
       " 'phone',\n",
       " 'remarks',\n",
       " 'setName']"
      ]
     },
     "execution_count": 104,
     "metadata": {},
     "output_type": "execute_result"
    }
   ],
   "source": [
    "dir(jack)"
   ]
  },
  {
   "cell_type": "code",
   "execution_count": 94,
   "id": "9aa86c43",
   "metadata": {},
   "outputs": [],
   "source": [
    "tom = VisitorForm()"
   ]
  },
  {
   "cell_type": "code",
   "execution_count": 95,
   "id": "1790bbd9",
   "metadata": {},
   "outputs": [],
   "source": [
    "# dir(jack)"
   ]
  },
  {
   "cell_type": "code",
   "execution_count": 98,
   "id": "e8057090",
   "metadata": {},
   "outputs": [
    {
     "name": "stdout",
     "output_type": "stream",
     "text": [
      "new name set ....\n"
     ]
    }
   ],
   "source": [
    "jack.changeName(\"jack kkkkk\")"
   ]
  },
  {
   "cell_type": "code",
   "execution_count": 99,
   "id": "be38ee61",
   "metadata": {},
   "outputs": [
    {
     "data": {
      "text/plain": [
       "'jack kkkkk'"
      ]
     },
     "execution_count": 99,
     "metadata": {},
     "output_type": "execute_result"
    }
   ],
   "source": [
    "jack.name"
   ]
  },
  {
   "cell_type": "code",
   "execution_count": 100,
   "id": "98a1608b",
   "metadata": {},
   "outputs": [],
   "source": [
    "jack.name = \"pppp\""
   ]
  },
  {
   "cell_type": "code",
   "execution_count": 101,
   "id": "8e0fe4aa",
   "metadata": {},
   "outputs": [
    {
     "data": {
      "text/plain": [
       "'pppp'"
      ]
     },
     "execution_count": 101,
     "metadata": {},
     "output_type": "execute_result"
    }
   ],
   "source": [
    "jack.name"
   ]
  },
  {
   "cell_type": "code",
   "execution_count": 71,
   "id": "58fc342c",
   "metadata": {},
   "outputs": [],
   "source": [
    "tom.phone = 22222"
   ]
  },
  {
   "cell_type": "code",
   "execution_count": 72,
   "id": "709b4d91",
   "metadata": {},
   "outputs": [],
   "source": [
    "jack.name = \"jack k\""
   ]
  },
  {
   "cell_type": "code",
   "execution_count": 73,
   "id": "0b0c5921",
   "metadata": {},
   "outputs": [],
   "source": [
    "jack.phone = 1111"
   ]
  },
  {
   "cell_type": "code",
   "execution_count": 74,
   "id": "80a5d776",
   "metadata": {},
   "outputs": [
    {
     "name": "stdout",
     "output_type": "stream",
     "text": [
      "<__main__.VisitorForm object at 0x0000025705EDF220>\n",
      "1111\n"
     ]
    }
   ],
   "source": [
    "jack.getPhone()"
   ]
  },
  {
   "cell_type": "code",
   "execution_count": 75,
   "id": "af375f1b",
   "metadata": {},
   "outputs": [
    {
     "name": "stdout",
     "output_type": "stream",
     "text": [
      "<__main__.VisitorForm object at 0x0000025705EDF8B0>\n",
      "22222\n"
     ]
    }
   ],
   "source": [
    "tom.getPhone()"
   ]
  },
  {
   "cell_type": "code",
   "execution_count": null,
   "id": "b81aabd7",
   "metadata": {},
   "outputs": [],
   "source": []
  },
  {
   "cell_type": "code",
   "execution_count": 50,
   "id": "f5080fe4",
   "metadata": {},
   "outputs": [
    {
     "data": {
      "text/plain": [
       "<__main__.VisitorForm at 0x25706233370>"
      ]
     },
     "execution_count": 50,
     "metadata": {},
     "output_type": "execute_result"
    }
   ],
   "source": [
    "jack"
   ]
  },
  {
   "cell_type": "code",
   "execution_count": null,
   "id": "6b3bd25c",
   "metadata": {},
   "outputs": [],
   "source": []
  },
  {
   "cell_type": "code",
   "execution_count": 37,
   "id": "10ab5c14",
   "metadata": {},
   "outputs": [],
   "source": [
    "def lw(n):\n",
    "    print(\"hhh\")\n",
    "    print(n)"
   ]
  },
  {
   "cell_type": "code",
   "execution_count": 38,
   "id": "afaa0399",
   "metadata": {},
   "outputs": [
    {
     "name": "stdout",
     "output_type": "stream",
     "text": [
      "hhh\n",
      "123\n"
     ]
    }
   ],
   "source": [
    "lw(123)"
   ]
  },
  {
   "cell_type": "code",
   "execution_count": null,
   "id": "14438a60",
   "metadata": {},
   "outputs": [],
   "source": []
  },
  {
   "cell_type": "code",
   "execution_count": null,
   "id": "8f0e5948",
   "metadata": {},
   "outputs": [],
   "source": []
  },
  {
   "cell_type": "code",
   "execution_count": 3,
   "id": "3128b461",
   "metadata": {},
   "outputs": [
    {
     "data": {
      "text/plain": [
       "<__main__.VisitorForm at 0x25705c5ed90>"
      ]
     },
     "execution_count": 3,
     "metadata": {},
     "output_type": "execute_result"
    }
   ],
   "source": [
    "jack"
   ]
  },
  {
   "cell_type": "code",
   "execution_count": 4,
   "id": "1a9ee6b7",
   "metadata": {},
   "outputs": [
    {
     "data": {
      "text/plain": [
       "{}"
      ]
     },
     "execution_count": 4,
     "metadata": {},
     "output_type": "execute_result"
    }
   ],
   "source": [
    "jack.__dict__"
   ]
  },
  {
   "cell_type": "code",
   "execution_count": 5,
   "id": "6282645c",
   "metadata": {},
   "outputs": [],
   "source": [
    "jack.name = \"jack k\""
   ]
  },
  {
   "cell_type": "code",
   "execution_count": 6,
   "id": "38834124",
   "metadata": {},
   "outputs": [],
   "source": [
    "jack.phone = 1111"
   ]
  },
  {
   "cell_type": "code",
   "execution_count": 7,
   "id": "f79468bc",
   "metadata": {},
   "outputs": [],
   "source": [
    "jack.remarks = \"ok\""
   ]
  },
  {
   "cell_type": "code",
   "execution_count": 8,
   "id": "c4c45de3",
   "metadata": {},
   "outputs": [
    {
     "data": {
      "text/plain": [
       "<__main__.VisitorForm at 0x25705c5ed90>"
      ]
     },
     "execution_count": 8,
     "metadata": {},
     "output_type": "execute_result"
    }
   ],
   "source": [
    "jack"
   ]
  },
  {
   "cell_type": "code",
   "execution_count": 9,
   "id": "66b9da18",
   "metadata": {},
   "outputs": [
    {
     "data": {
      "text/plain": [
       "{'name': 'jack k', 'phone': 1111, 'remarks': 'ok'}"
      ]
     },
     "execution_count": 9,
     "metadata": {},
     "output_type": "execute_result"
    }
   ],
   "source": [
    "jack.__dict__"
   ]
  },
  {
   "cell_type": "code",
   "execution_count": 11,
   "id": "b9d2299f",
   "metadata": {},
   "outputs": [
    {
     "data": {
      "text/plain": [
       "1111"
      ]
     },
     "execution_count": 11,
     "metadata": {},
     "output_type": "execute_result"
    }
   ],
   "source": [
    "# step by step\n",
    "# algo : function\n",
    "jack.phone"
   ]
  },
  {
   "cell_type": "code",
   "execution_count": 22,
   "id": "54700822",
   "metadata": {},
   "outputs": [],
   "source": [
    "def getPhone():\n",
    "    print(tom.phone)"
   ]
  },
  {
   "cell_type": "code",
   "execution_count": 23,
   "id": "0baeedf5",
   "metadata": {},
   "outputs": [
    {
     "name": "stdout",
     "output_type": "stream",
     "text": [
      "2222\n"
     ]
    }
   ],
   "source": [
    "getPhone()"
   ]
  },
  {
   "cell_type": "code",
   "execution_count": 16,
   "id": "5a1d26c4",
   "metadata": {},
   "outputs": [],
   "source": [
    "tom = VisitorForm()"
   ]
  },
  {
   "cell_type": "code",
   "execution_count": 17,
   "id": "bc67a736",
   "metadata": {},
   "outputs": [],
   "source": [
    "tom.phone= 2222"
   ]
  },
  {
   "cell_type": "code",
   "execution_count": 18,
   "id": "dfdf73fa",
   "metadata": {},
   "outputs": [],
   "source": [
    "tom.name = \"tom j\""
   ]
  },
  {
   "cell_type": "code",
   "execution_count": 19,
   "id": "5ef97ea8",
   "metadata": {},
   "outputs": [
    {
     "data": {
      "text/plain": [
       "{'phone': 2222, 'name': 'tom j'}"
      ]
     },
     "execution_count": 19,
     "metadata": {},
     "output_type": "execute_result"
    }
   ],
   "source": [
    "tom.__dict__"
   ]
  },
  {
   "cell_type": "code",
   "execution_count": 20,
   "id": "a33ace3a",
   "metadata": {},
   "outputs": [
    {
     "data": {
      "text/plain": [
       "2222"
      ]
     },
     "execution_count": 20,
     "metadata": {},
     "output_type": "execute_result"
    }
   ],
   "source": [
    "tom.phone"
   ]
  },
  {
   "cell_type": "code",
   "execution_count": 21,
   "id": "3594c01e",
   "metadata": {},
   "outputs": [
    {
     "name": "stdout",
     "output_type": "stream",
     "text": [
      "1111\n"
     ]
    }
   ],
   "source": [
    "getPhone()"
   ]
  },
  {
   "cell_type": "code",
   "execution_count": null,
   "id": "1b0ab443",
   "metadata": {},
   "outputs": [],
   "source": []
  }
 ],
 "metadata": {
  "kernelspec": {
   "display_name": "Python 3",
   "language": "python",
   "name": "python3"
  },
  "language_info": {
   "codemirror_mode": {
    "name": "ipython",
    "version": 3
   },
   "file_extension": ".py",
   "mimetype": "text/x-python",
   "name": "python",
   "nbconvert_exporter": "python",
   "pygments_lexer": "ipython3",
   "version": "3.8.8"
  }
 },
 "nbformat": 4,
 "nbformat_minor": 5
}
