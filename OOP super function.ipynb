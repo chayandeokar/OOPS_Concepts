{
 "cells": [
  {
   "cell_type": "code",
   "execution_count": 1,
   "id": "b815f1b9",
   "metadata": {},
   "outputs": [],
   "source": [
    "x = 5"
   ]
  },
  {
   "cell_type": "code",
   "execution_count": 2,
   "id": "b952a7d2",
   "metadata": {},
   "outputs": [
    {
     "data": {
      "text/plain": [
       "'0x7ff80ca427b0'"
      ]
     },
     "execution_count": 2,
     "metadata": {},
     "output_type": "execute_result"
    }
   ],
   "source": [
    "hex ( id(x) )"
   ]
  },
  {
   "cell_type": "code",
   "execution_count": 8,
   "id": "7056fbaa",
   "metadata": {},
   "outputs": [],
   "source": [
    "def lw():\n",
    "    print(\"hi\")"
   ]
  },
  {
   "cell_type": "code",
   "execution_count": 9,
   "id": "97890371",
   "metadata": {},
   "outputs": [
    {
     "name": "stdout",
     "output_type": "stream",
     "text": [
      "hi\n"
     ]
    }
   ],
   "source": [
    "lw()"
   ]
  },
  {
   "cell_type": "code",
   "execution_count": 10,
   "id": "5a309efd",
   "metadata": {},
   "outputs": [],
   "source": [
    "del lw"
   ]
  },
  {
   "cell_type": "code",
   "execution_count": 11,
   "id": "c26a98c5",
   "metadata": {},
   "outputs": [
    {
     "ename": "NameError",
     "evalue": "name 'lw' is not defined",
     "output_type": "error",
     "traceback": [
      "\u001b[1;31m---------------------------------------------------------------------------\u001b[0m",
      "\u001b[1;31mNameError\u001b[0m                                 Traceback (most recent call last)",
      "\u001b[1;32m<ipython-input-11-9e65f023e613>\u001b[0m in \u001b[0;36m<module>\u001b[1;34m\u001b[0m\n\u001b[1;32m----> 1\u001b[1;33m \u001b[0mlw\u001b[0m\u001b[1;33m(\u001b[0m\u001b[1;33m)\u001b[0m\u001b[1;33m\u001b[0m\u001b[1;33m\u001b[0m\u001b[0m\n\u001b[0m",
      "\u001b[1;31mNameError\u001b[0m: name 'lw' is not defined"
     ]
    }
   ],
   "source": [
    "lw()"
   ]
  },
  {
   "cell_type": "code",
   "execution_count": 19,
   "id": "932b4058",
   "metadata": {},
   "outputs": [],
   "source": [
    "class VisitorForm:\n",
    "    \n",
    "    # data managed by ajay\n",
    "    mycount = 0\n",
    "    \n",
    "    def __init__(self, myname, myphone):\n",
    "        self.name = myname\n",
    "        self.phone = myphone\n",
    "        VisitorForm.mycount += 1\n",
    "        # create code here : auto email\n",
    "        # create code here : auto sms phone\n",
    "        print(\"new visit done ...\")\n",
    "        \n",
    "    def getPhone(self):\n",
    "        print(self.phone)"
   ]
  },
  {
   "cell_type": "code",
   "execution_count": 21,
   "id": "6dbba745",
   "metadata": {},
   "outputs": [
    {
     "name": "stdout",
     "output_type": "stream",
     "text": [
      "new visit done ...\n"
     ]
    }
   ],
   "source": [
    "jack = VisitorForm(myname=\"jack k \", myphone=1111)"
   ]
  },
  {
   "cell_type": "code",
   "execution_count": 23,
   "id": "75c8d52f",
   "metadata": {},
   "outputs": [
    {
     "name": "stdout",
     "output_type": "stream",
     "text": [
      "new visit done ...\n"
     ]
    }
   ],
   "source": [
    "tom = VisitorForm(\"tom k\", 2222)"
   ]
  },
  {
   "cell_type": "code",
   "execution_count": 30,
   "id": "729413c2",
   "metadata": {},
   "outputs": [
    {
     "data": {
      "text/plain": [
       "2"
      ]
     },
     "execution_count": 30,
     "metadata": {},
     "output_type": "execute_result"
    }
   ],
   "source": [
    "VisitorForm.mycount"
   ]
  },
  {
   "cell_type": "code",
   "execution_count": 25,
   "id": "7f55ca33",
   "metadata": {},
   "outputs": [
    {
     "data": {
      "text/plain": [
       "{'name': 'jack k ', 'phone': 1111}"
      ]
     },
     "execution_count": 25,
     "metadata": {},
     "output_type": "execute_result"
    }
   ],
   "source": [
    "jack.__dict__"
   ]
  },
  {
   "cell_type": "code",
   "execution_count": 26,
   "id": "7b9ad786",
   "metadata": {},
   "outputs": [],
   "source": [
    "del jack"
   ]
  },
  {
   "cell_type": "code",
   "execution_count": 28,
   "id": "99c5bb86",
   "metadata": {},
   "outputs": [
    {
     "ename": "NameError",
     "evalue": "name 'jack' is not defined",
     "output_type": "error",
     "traceback": [
      "\u001b[1;31m---------------------------------------------------------------------------\u001b[0m",
      "\u001b[1;31mNameError\u001b[0m                                 Traceback (most recent call last)",
      "\u001b[1;32m<ipython-input-28-48a7fef23347>\u001b[0m in \u001b[0;36m<module>\u001b[1;34m\u001b[0m\n\u001b[1;32m----> 1\u001b[1;33m \u001b[0mjack\u001b[0m\u001b[1;33m.\u001b[0m\u001b[0m__dict__\u001b[0m\u001b[1;33m\u001b[0m\u001b[1;33m\u001b[0m\u001b[0m\n\u001b[0m",
      "\u001b[1;31mNameError\u001b[0m: name 'jack' is not defined"
     ]
    }
   ],
   "source": [
    "jack.__dict__"
   ]
  },
  {
   "cell_type": "code",
   "execution_count": 29,
   "id": "ce569590",
   "metadata": {},
   "outputs": [
    {
     "ename": "NameError",
     "evalue": "name 'jack' is not defined",
     "output_type": "error",
     "traceback": [
      "\u001b[1;31m---------------------------------------------------------------------------\u001b[0m",
      "\u001b[1;31mNameError\u001b[0m                                 Traceback (most recent call last)",
      "\u001b[1;32m<ipython-input-29-b4167f005e35>\u001b[0m in \u001b[0;36m<module>\u001b[1;34m\u001b[0m\n\u001b[1;32m----> 1\u001b[1;33m \u001b[0mjack\u001b[0m\u001b[1;33m.\u001b[0m\u001b[0mphone\u001b[0m\u001b[1;33m\u001b[0m\u001b[1;33m\u001b[0m\u001b[0m\n\u001b[0m",
      "\u001b[1;31mNameError\u001b[0m: name 'jack' is not defined"
     ]
    }
   ],
   "source": [
    "jack.phone"
   ]
  },
  {
   "cell_type": "code",
   "execution_count": null,
   "id": "1d29bf6f",
   "metadata": {},
   "outputs": [],
   "source": []
  },
  {
   "cell_type": "code",
   "execution_count": 56,
   "id": "c57511db",
   "metadata": {},
   "outputs": [],
   "source": [
    "# parent class\n",
    "class visitorForm:\n",
    "    \n",
    "    count = 10\n",
    "    \n",
    "    def __init__(self, n , p):\n",
    "        self.name = n\n",
    "        self.phone = p\n",
    "        \n",
    "    def getPhone(self):\n",
    "        print(self.phone)\n",
    "        \n",
    "    def  mylw(self):\n",
    "        print(\"welcome to lw ....\")"
   ]
  },
  {
   "cell_type": "code",
   "execution_count": 61,
   "id": "87329ccf",
   "metadata": {},
   "outputs": [],
   "source": [
    "# child class\n",
    "\n",
    "# parent class -- super class\n",
    "class jobForm(visitorForm):\n",
    "    def myjob(self):\n",
    "        print(\"my job ...\")\n",
    "        print( super() )\n",
    "        super().mylw()\n",
    "        t = super().count\n",
    "        print(t)\n",
    "        \n",
    "        print(self.name)\n",
    "        print(self.phone)"
   ]
  },
  {
   "cell_type": "code",
   "execution_count": 62,
   "id": "7cf7840a",
   "metadata": {},
   "outputs": [],
   "source": [
    "jack = jobForm(n=\"jack k\", p=11111)"
   ]
  },
  {
   "cell_type": "code",
   "execution_count": 63,
   "id": "764001f4",
   "metadata": {},
   "outputs": [
    {
     "data": {
      "text/plain": [
       "{'name': 'jack k', 'phone': 11111}"
      ]
     },
     "execution_count": 63,
     "metadata": {},
     "output_type": "execute_result"
    }
   ],
   "source": [
    "jack.__dict__"
   ]
  },
  {
   "cell_type": "code",
   "execution_count": 64,
   "id": "1c86c943",
   "metadata": {},
   "outputs": [
    {
     "name": "stdout",
     "output_type": "stream",
     "text": [
      "my job ...\n",
      "<super: <class 'jobForm'>, <jobForm object>>\n",
      "welcome to lw ....\n",
      "10\n",
      "jack k\n",
      "11111\n"
     ]
    }
   ],
   "source": [
    "jack.myjob()"
   ]
  },
  {
   "cell_type": "code",
   "execution_count": 39,
   "id": "2e03cacc",
   "metadata": {},
   "outputs": [
    {
     "name": "stdout",
     "output_type": "stream",
     "text": [
      "11111\n"
     ]
    }
   ],
   "source": [
    "jack.getPhone()"
   ]
  },
  {
   "cell_type": "code",
   "execution_count": null,
   "id": "d855344a",
   "metadata": {},
   "outputs": [],
   "source": []
  },
  {
   "cell_type": "code",
   "execution_count": null,
   "id": "0cb35cd4",
   "metadata": {},
   "outputs": [],
   "source": []
  },
  {
   "cell_type": "code",
   "execution_count": 111,
   "id": "adac891f",
   "metadata": {},
   "outputs": [],
   "source": [
    "# parent class\n",
    "class visitorForm:\n",
    "\n",
    "    \n",
    "    def __init__(self, myname , myphone):\n",
    "        self.name = myname\n",
    "        self.phone = myphone\n",
    "        \n",
    "    def getPhone(self):\n",
    "        print(\"phone from parent ..\")\n",
    "        print(self.phone)\n",
    "        \n"
   ]
  },
  {
   "cell_type": "code",
   "execution_count": null,
   "id": "648787b6",
   "metadata": {},
   "outputs": [],
   "source": []
  },
  {
   "cell_type": "code",
   "execution_count": 115,
   "id": "48b99da1",
   "metadata": {},
   "outputs": [],
   "source": [
    "# parent class -- super class\n",
    "class jobForm(visitorForm):\n",
    "    \"\"\"\n",
    "    docstring ...\n",
    "    i first line\n",
    "    i m parent class\n",
    "    bye\n",
    "    \"\"\"\n",
    "    # constructor override \n",
    "    def __init__(self, myexp , cname ,cphone ):\n",
    "        self.exp = myexp\n",
    "        print(\"i m child\")\n",
    "       \n",
    "        super().__init__( cname  , cphone )\n",
    "    \n",
    "    def myjob(self):\n",
    "        print(\"my job ...\")\n",
    " \n",
    "    # method overriding\n",
    "    def getPhone(self):\n",
    "        print(\"phone from child ..\")\n",
    "        print(self.phone)"
   ]
  },
  {
   "cell_type": "code",
   "execution_count": null,
   "id": "5111f127",
   "metadata": {},
   "outputs": [],
   "source": []
  },
  {
   "cell_type": "code",
   "execution_count": 116,
   "id": "a23a6e72",
   "metadata": {},
   "outputs": [
    {
     "name": "stdout",
     "output_type": "stream",
     "text": [
      "i m child\n"
     ]
    }
   ],
   "source": [
    "# jack = jobForm(myexp=3 , myname=\"jack k \", myphone=11111)\n",
    "\n",
    "jack = jobForm(myexp=3, cname=\"jack k\", cphone=11111)"
   ]
  },
  {
   "cell_type": "code",
   "execution_count": 118,
   "id": "3d649265",
   "metadata": {},
   "outputs": [
    {
     "name": "stdout",
     "output_type": "stream",
     "text": [
      "\n",
      "    i first line\n",
      "    i m parent class\n",
      "    bye\n",
      "    \n"
     ]
    }
   ],
   "source": [
    "print(jack.__doc__)"
   ]
  },
  {
   "cell_type": "code",
   "execution_count": null,
   "id": "0bfbc2b2",
   "metadata": {},
   "outputs": [],
   "source": []
  },
  {
   "cell_type": "code",
   "execution_count": 92,
   "id": "ec367131",
   "metadata": {},
   "outputs": [
    {
     "name": "stdout",
     "output_type": "stream",
     "text": [
      "i m child\n"
     ]
    }
   ],
   "source": [
    "tom = jobForm(myexp=2, cname=\"tom k\", cphone=2222)"
   ]
  },
  {
   "cell_type": "code",
   "execution_count": 93,
   "id": "f0fb19b0",
   "metadata": {},
   "outputs": [
    {
     "data": {
      "text/plain": [
       "{'exp': 3, 'name': 'jack k', 'phone': 11111}"
      ]
     },
     "execution_count": 93,
     "metadata": {},
     "output_type": "execute_result"
    }
   ],
   "source": [
    "jack.__dict__"
   ]
  },
  {
   "cell_type": "code",
   "execution_count": 94,
   "id": "a986217f",
   "metadata": {},
   "outputs": [
    {
     "data": {
      "text/plain": [
       "{'exp': 2, 'name': 'tom k', 'phone': 2222}"
      ]
     },
     "execution_count": 94,
     "metadata": {},
     "output_type": "execute_result"
    }
   ],
   "source": [
    "tom.__dict__"
   ]
  },
  {
   "cell_type": "code",
   "execution_count": 69,
   "id": "da6df0fa",
   "metadata": {},
   "outputs": [
    {
     "name": "stdout",
     "output_type": "stream",
     "text": [
      "phone from child ..\n",
      "1111\n"
     ]
    }
   ],
   "source": [
    "jack.getPhone()"
   ]
  },
  {
   "cell_type": "code",
   "execution_count": null,
   "id": "a0b0ba82",
   "metadata": {},
   "outputs": [],
   "source": []
  },
  {
   "cell_type": "code",
   "execution_count": null,
   "id": "70a1f1e5",
   "metadata": {},
   "outputs": [],
   "source": []
  },
  {
   "cell_type": "code",
   "execution_count": null,
   "id": "4e2a5fa5",
   "metadata": {},
   "outputs": [],
   "source": []
  },
  {
   "cell_type": "code",
   "execution_count": null,
   "id": "2b06511f",
   "metadata": {},
   "outputs": [],
   "source": []
  },
  {
   "cell_type": "code",
   "execution_count": 98,
   "id": "147ea335",
   "metadata": {},
   "outputs": [],
   "source": [
    "class secForm:\n",
    "    def mysec(self):\n",
    "        print(\"from main gate....\")"
   ]
  },
  {
   "cell_type": "code",
   "execution_count": 99,
   "id": "893e928c",
   "metadata": {},
   "outputs": [],
   "source": [
    "class recForm:\n",
    "    def myrec(self):\n",
    "        print(\"from rec area ..\")"
   ]
  },
  {
   "cell_type": "code",
   "execution_count": 105,
   "id": "31ce0edf",
   "metadata": {},
   "outputs": [],
   "source": [
    "class jobForm(secForm , recForm):\n",
    "    def myjob(self):\n",
    "        print(\"i got job ..\")"
   ]
  },
  {
   "cell_type": "code",
   "execution_count": 126,
   "id": "b2b47577",
   "metadata": {},
   "outputs": [
    {
     "ename": "TypeError",
     "evalue": "__init__() missing 3 required positional arguments: 'myexp', 'cname', and 'cphone'",
     "output_type": "error",
     "traceback": [
      "\u001b[1;31m---------------------------------------------------------------------------\u001b[0m",
      "\u001b[1;31mTypeError\u001b[0m                                 Traceback (most recent call last)",
      "\u001b[1;32m<ipython-input-126-b5be759523d8>\u001b[0m in \u001b[0;36m<module>\u001b[1;34m\u001b[0m\n\u001b[1;32m----> 1\u001b[1;33m \u001b[0mjack\u001b[0m \u001b[1;33m=\u001b[0m \u001b[0mjobForm\u001b[0m\u001b[1;33m(\u001b[0m\u001b[1;33m)\u001b[0m\u001b[1;33m\u001b[0m\u001b[1;33m\u001b[0m\u001b[0m\n\u001b[0m",
      "\u001b[1;31mTypeError\u001b[0m: __init__() missing 3 required positional arguments: 'myexp', 'cname', and 'cphone'"
     ]
    }
   ],
   "source": [
    "jack = jobForm()"
   ]
  },
  {
   "cell_type": "code",
   "execution_count": null,
   "id": "bc3006ca",
   "metadata": {},
   "outputs": [],
   "source": [
    "help()"
   ]
  },
  {
   "cell_type": "code",
   "execution_count": 102,
   "id": "25185091",
   "metadata": {},
   "outputs": [
    {
     "name": "stdout",
     "output_type": "stream",
     "text": [
      "i got job ..\n"
     ]
    }
   ],
   "source": [
    "jack.myjob()"
   ]
  },
  {
   "cell_type": "code",
   "execution_count": 103,
   "id": "c798af0d",
   "metadata": {},
   "outputs": [
    {
     "name": "stdout",
     "output_type": "stream",
     "text": [
      "from rec area ..\n"
     ]
    }
   ],
   "source": [
    "jack.myrec()"
   ]
  },
  {
   "cell_type": "code",
   "execution_count": 104,
   "id": "d27f0488",
   "metadata": {},
   "outputs": [
    {
     "name": "stdout",
     "output_type": "stream",
     "text": [
      "from main gate....\n"
     ]
    }
   ],
   "source": [
    "jack.mysec()"
   ]
  },
  {
   "cell_type": "code",
   "execution_count": 106,
   "id": "e7b26521",
   "metadata": {},
   "outputs": [],
   "source": [
    "# wfegrg rhtertjtrj rjry"
   ]
  },
  {
   "cell_type": "code",
   "execution_count": 110,
   "id": "6c0587f7",
   "metadata": {},
   "outputs": [
    {
     "data": {
      "text/plain": [
       "'\\ndsgfdh\\nadafdh\\negwr htjry ktj\\ne ryt uyj\\nwr ryt\\n'"
      ]
     },
     "execution_count": 110,
     "metadata": {},
     "output_type": "execute_result"
    }
   ],
   "source": [
    "\"\"\"\n",
    "dsgfdh\n",
    "adafdh\n",
    "egwr htjry ktj\n",
    "e ryt uyj\n",
    "wr ryt\n",
    "\"\"\""
   ]
  },
  {
   "cell_type": "code",
   "execution_count": 109,
   "id": "44723037",
   "metadata": {},
   "outputs": [
    {
     "data": {
      "text/plain": [
       "'\\ndsgfdh\\nadafdh\\negwr htjry ktj\\ne ryt uyj\\nwr ryt\\n'"
      ]
     },
     "execution_count": 109,
     "metadata": {},
     "output_type": "execute_result"
    }
   ],
   "source": [
    "x"
   ]
  },
  {
   "cell_type": "code",
   "execution_count": null,
   "id": "cc1b6e62",
   "metadata": {},
   "outputs": [],
   "source": []
  },
  {
   "cell_type": "code",
   "execution_count": null,
   "id": "693deb6e",
   "metadata": {},
   "outputs": [],
   "source": []
  },
  {
   "cell_type": "code",
   "execution_count": 122,
   "id": "e89efbdf",
   "metadata": {},
   "outputs": [],
   "source": [
    "def lw():\n",
    "    'i m lw func'\n",
    "    print(\"hhh\")"
   ]
  },
  {
   "cell_type": "code",
   "execution_count": 123,
   "id": "930a0bb7",
   "metadata": {},
   "outputs": [
    {
     "name": "stdout",
     "output_type": "stream",
     "text": [
      "hhh\n"
     ]
    }
   ],
   "source": [
    "lw()"
   ]
  },
  {
   "cell_type": "code",
   "execution_count": 124,
   "id": "ec8bd55b",
   "metadata": {},
   "outputs": [
    {
     "data": {
      "text/plain": [
       "'i m lw func'"
      ]
     },
     "execution_count": 124,
     "metadata": {},
     "output_type": "execute_result"
    }
   ],
   "source": [
    "lw.__doc__"
   ]
  },
  {
   "cell_type": "code",
   "execution_count": 125,
   "id": "b33d3509",
   "metadata": {},
   "outputs": [
    {
     "name": "stdout",
     "output_type": "stream",
     "text": [
      "Help on function lw in module __main__:\n",
      "\n",
      "lw()\n",
      "    i m lw func\n",
      "\n"
     ]
    }
   ],
   "source": [
    "help(lw)"
   ]
  },
  {
   "cell_type": "code",
   "execution_count": 127,
   "id": "9036a572",
   "metadata": {},
   "outputs": [],
   "source": [
    "l = [1,3,4,4]"
   ]
  },
  {
   "cell_type": "code",
   "execution_count": 128,
   "id": "62ee6cc8",
   "metadata": {},
   "outputs": [
    {
     "data": {
      "text/plain": [
       "1"
      ]
     },
     "execution_count": 128,
     "metadata": {},
     "output_type": "execute_result"
    }
   ],
   "source": [
    "l.index(3)"
   ]
  },
  {
   "cell_type": "code",
   "execution_count": 129,
   "id": "10611529",
   "metadata": {},
   "outputs": [
    {
     "name": "stdout",
     "output_type": "stream",
     "text": [
      "Help on built-in function index:\n",
      "\n",
      "index(value, start=0, stop=9223372036854775807, /) method of builtins.list instance\n",
      "    Return first index of value.\n",
      "    \n",
      "    Raises ValueError if the value is not present.\n",
      "\n"
     ]
    }
   ],
   "source": [
    "help(l.index)"
   ]
  },
  {
   "cell_type": "code",
   "execution_count": null,
   "id": "d86ef08f",
   "metadata": {},
   "outputs": [],
   "source": []
  }
 ],
 "metadata": {
  "kernelspec": {
   "display_name": "Python 3",
   "language": "python",
   "name": "python3"
  },
  "language_info": {
   "codemirror_mode": {
    "name": "ipython",
    "version": 3
   },
   "file_extension": ".py",
   "mimetype": "text/x-python",
   "name": "python",
   "nbconvert_exporter": "python",
   "pygments_lexer": "ipython3",
   "version": "3.8.8"
  }
 },
 "nbformat": 4,
 "nbformat_minor": 5
}
