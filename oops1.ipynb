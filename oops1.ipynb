{
 "cells": [
  {
   "cell_type": "code",
   "execution_count": 1,
   "id": "6de93eb0",
   "metadata": {},
   "outputs": [
    {
     "name": "stdout",
     "output_type": "stream",
     "text": [
      "Constructor of Student class\n",
      "Total student is 1 and 20 are blacklisted\n",
      "I am john, I am from Bhopal\n",
      "Constructor of Student class\n",
      "I am Sam, I am from Indore\n"
     ]
    }
   ],
   "source": [
    "class Student:\n",
    "    # class variable/ static variable\n",
    "    count = 0\n",
    "    #Constructor\n",
    "    def __init__(self,name,city):\n",
    "        print(\"Constructor of Student class\")\n",
    "        self.n = name\n",
    "        self.c = city\n",
    "        Student.count += 1\n",
    "    #method\n",
    "    def totalStudent(self):\n",
    "        blacklisted = 20\n",
    "        print(f\"Total student is {Student.count} and {blacklisted} are blacklisted\")\n",
    "    def showDetails(self):\n",
    "        print(f\"I am {self.n}, I am from {self.c}\")       \n",
    "        # print(f\"Total student is {Student.count} and {blacklisted} are blacklisted\")\n",
    "obj = Student(\"john\",\"Bhopal\")\n",
    "obj.totalStudent()\n",
    "obj.showDetails()\n",
    "\n",
    "sam = Student(\"Sam\",\"Indore\")\n",
    "sam.showDetails()"
   ]
  },
  {
   "cell_type": "code",
   "execution_count": 6,
   "id": "a6f1d977",
   "metadata": {},
   "outputs": [
    {
     "name": "stdout",
     "output_type": "stream",
     "text": [
      "Constructor of Student class\n",
      "my name john , I am from bhopal\n"
     ]
    }
   ],
   "source": [
    "class student:\n",
    "    def __init__(self,name,city):\n",
    "        print(\"Constructor of Student class\")\n",
    "        self.n = name\n",
    "        self.c = city\n",
    "    def showdetails(self):\n",
    "        print(f\"my name {self.n} , I am from {self.c}\")\n",
    "        \n",
    "sam = student(\"john\" , \"bhopal\")\n",
    "sam.showdetails()\n",
    "    "
   ]
  },
  {
   "cell_type": "code",
   "execution_count": 10,
   "id": "15a1b2e6",
   "metadata": {},
   "outputs": [
    {
     "name": "stdout",
     "output_type": "stream",
     "text": [
      "total student 0 and 20\n"
     ]
    }
   ],
   "source": [
    "class student:\n",
    "    count=0\n",
    "    def __init__(self,name,city):\n",
    "        print(\"Constructor of Student class\")\n",
    "        self.n = name\n",
    "        self.c = city\n",
    "        student.count += 1\n",
    "    def totalstudent(self):\n",
    "        blacklisted=20\n",
    "        print(f\"total student {student.count} and {blacklisted}\")\n",
    "        \n",
    "sam.totalstudent()\n",
    "    "
   ]
  },
  {
   "cell_type": "code",
   "execution_count": 11,
   "id": "7983376e",
   "metadata": {},
   "outputs": [],
   "source": [
    "class visitor:\n",
    "    name = \"vimal\"\n",
    "    phone= 12345\n",
    "    Remarks = \"ok\"\n",
    "    \n",
    "    ## Method / Function\n",
    "    def test():\n",
    "        print(\"hello world\")"
   ]
  },
  {
   "cell_type": "code",
   "execution_count": 13,
   "id": "6299a86a",
   "metadata": {},
   "outputs": [
    {
     "name": "stdout",
     "output_type": "stream",
     "text": [
      "hello world\n"
     ]
    }
   ],
   "source": [
    "visitor.test()"
   ]
  },
  {
   "cell_type": "code",
   "execution_count": null,
   "id": "64db91a1",
   "metadata": {},
   "outputs": [],
   "source": []
  }
 ],
 "metadata": {
  "kernelspec": {
   "display_name": "Python 3 (ipykernel)",
   "language": "python",
   "name": "python3"
  },
  "language_info": {
   "codemirror_mode": {
    "name": "ipython",
    "version": 3
   },
   "file_extension": ".py",
   "mimetype": "text/x-python",
   "name": "python",
   "nbconvert_exporter": "python",
   "pygments_lexer": "ipython3",
   "version": "3.10.2"
  }
 },
 "nbformat": 4,
 "nbformat_minor": 5
}
